{
 "cells": [
  {
   "cell_type": "code",
   "execution_count": 3,
   "id": "777e0c92-73e7-4efe-a05f-8b1cf6047b19",
   "metadata": {},
   "outputs": [
    {
     "name": "stdin",
     "output_type": "stream",
     "text": [
      "Enter your age  44\n"
     ]
    }
   ],
   "source": [
    "age = int(input(\"Enter your age \"))"
   ]
  },
  {
   "cell_type": "code",
   "execution_count": 7,
   "id": "9073b9a0-4b01-4838-855a-023a5d904bf2",
   "metadata": {},
   "outputs": [
    {
     "name": "stdin",
     "output_type": "stream",
     "text": [
      "Enter your age  45\n"
     ]
    },
    {
     "name": "stdout",
     "output_type": "stream",
     "text": [
      "You are Young Blood\n"
     ]
    }
   ],
   "source": [
    "age = int(input(\"Enter your age \"))\n",
    "if age >= 18 and age <=45 :\n",
    "    print(\"You are Young Blood\")"
   ]
  },
  {
   "cell_type": "code",
   "execution_count": 15,
   "id": "1a67b527-4eb1-4d42-b998-42e6acaafdd0",
   "metadata": {},
   "outputs": [
    {
     "name": "stdin",
     "output_type": "stream",
     "text": [
      "Please specify price of product  546\n"
     ]
    },
    {
     "name": "stdout",
     "output_type": "stream",
     "text": [
      "30% Off\n"
     ]
    }
   ],
   "source": [
    "price = int(input(\"Please specify price of product \"))\n",
    "if price <= 1000 :\n",
    "    print(\"30% Off\")\n",
    "elif price >= 1000 : \n",
    "    print(\"20% Off\")"
   ]
  },
  {
   "cell_type": "code",
   "execution_count": 18,
   "id": "dee1cb24-78fa-4fc6-8bc2-aef88e5e4687",
   "metadata": {},
   "outputs": [
    {
     "name": "stdin",
     "output_type": "stream",
     "text": [
      "Enter price  5000\n"
     ]
    },
    {
     "name": "stdout",
     "output_type": "stream",
     "text": [
      "The price of the product is 4000.0 \n"
     ]
    }
   ],
   "source": [
    "price = int(input(\"Enter price \"))\n",
    "if price > 3000:\n",
    "    print(\"The price of the product is {} \" .format(price*0.8))\n",
    "elif price < 2000:\n",
    "    print(\"The price of the product is {} \" .format(price*0.6))\n",
    "else:\n",
    "    print(\"The price of the product is {} \" .format(price*0.7))"
   ]
  },
  {
   "cell_type": "code",
   "execution_count": null,
   "id": "0b625306-6138-4260-b9cf-c4bbef6a5ff0",
   "metadata": {},
   "outputs": [],
   "source": []
  }
 ],
 "metadata": {
  "kernelspec": {
   "display_name": "Python 3 (ipykernel)",
   "language": "python",
   "name": "python3"
  },
  "language_info": {
   "codemirror_mode": {
    "name": "ipython",
    "version": 3
   },
   "file_extension": ".py",
   "mimetype": "text/x-python",
   "name": "python",
   "nbconvert_exporter": "python",
   "pygments_lexer": "ipython3",
   "version": "3.10.8"
  }
 },
 "nbformat": 4,
 "nbformat_minor": 5
}
